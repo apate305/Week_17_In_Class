{
 "cells": [
  {
   "cell_type": "markdown",
   "id": "30c45347",
   "metadata": {},
   "source": [
    "1) Write simple (straightforward) definitions for the following parameters for RandomForestClassifier (https://scikit-learn.org/stable/modules/generated/sklearn.ensemble.RandomForestClass ifier.html) and indicate how they correlate with the precision and recall for the basic diabetes model we built in class. You will need to rerun the model multiple times to do so."
   ]
  },
  {
   "attachments": {
    "image.png": {
     "image/png": "[encoded data removed]"
    }
   },
   "cell_type": "markdown",
   "id": "49c61f9a",
   "metadata": {},
   "source": [
    "![image.png](attachment:image.png)"
   ]
  },
  {
   "cell_type": "markdown",
   "id": "1037c5c4",
   "metadata": {},
   "source": [
    "leaf nodes: terminating node\n",
    "\n",
    "internal nodes: connection beyond them"
   ]
  },
  {
   "cell_type": "code",
   "execution_count": 262,
   "id": "2167b83b",
   "metadata": {},
   "outputs": [
    {
     "data": {
      "text/html": [
       "<div>\n",
       "<style scoped>\n",
       "    .dataframe tbody tr th:only-of-type {\n",
       "        vertical-align: middle;\n",
       "    }\n",
       "\n",
       "    .dataframe tbody tr th {\n",
       "        vertical-align: top;\n",
       "    }\n",
       "\n",
       "    .dataframe thead th {\n",
       "        text-align: right;\n",
       "    }\n",
       "</style>\n",
       "<table border=\"1\" class=\"dataframe\">\n",
       "  <thead>\n",
       "    <tr style=\"text-align: right;\">\n",
       "      <th></th>\n",
       "      <th>Pregnancies</th>\n",
       "      <th>Glucose</th>\n",
       "      <th>BloodPressure</th>\n",
       "      <th>SkinThickness</th>\n",
       "      <th>Insulin</th>\n",
       "      <th>BMI</th>\n",
       "      <th>DiabetesPedigreeFunction</th>\n",
       "      <th>Age</th>\n",
       "      <th>Outcome</th>\n",
       "    </tr>\n",
       "  </thead>\n",
       "  <tbody>\n",
       "    <tr>\n",
       "      <th>0</th>\n",
       "      <td>6</td>\n",
       "      <td>148</td>\n",
       "      <td>72</td>\n",
       "      <td>35</td>\n",
       "      <td>0</td>\n",
       "      <td>33.6</td>\n",
       "      <td>0.627</td>\n",
       "      <td>50</td>\n",
       "      <td>1</td>\n",
       "    </tr>\n",
       "    <tr>\n",
       "      <th>1</th>\n",
       "      <td>1</td>\n",
       "      <td>85</td>\n",
       "      <td>66</td>\n",
       "      <td>29</td>\n",
       "      <td>0</td>\n",
       "      <td>26.6</td>\n",
       "      <td>0.351</td>\n",
       "      <td>31</td>\n",
       "      <td>0</td>\n",
       "    </tr>\n",
       "    <tr>\n",
       "      <th>2</th>\n",
       "      <td>8</td>\n",
       "      <td>183</td>\n",
       "      <td>64</td>\n",
       "      <td>0</td>\n",
       "      <td>0</td>\n",
       "      <td>23.3</td>\n",
       "      <td>0.672</td>\n",
       "      <td>32</td>\n",
       "      <td>1</td>\n",
       "    </tr>\n",
       "    <tr>\n",
       "      <th>3</th>\n",
       "      <td>1</td>\n",
       "      <td>89</td>\n",
       "      <td>66</td>\n",
       "      <td>23</td>\n",
       "      <td>94</td>\n",
       "      <td>28.1</td>\n",
       "      <td>0.167</td>\n",
       "      <td>21</td>\n",
       "      <td>0</td>\n",
       "    </tr>\n",
       "    <tr>\n",
       "      <th>4</th>\n",
       "      <td>0</td>\n",
       "      <td>137</td>\n",
       "      <td>40</td>\n",
       "      <td>35</td>\n",
       "      <td>168</td>\n",
       "      <td>43.1</td>\n",
       "      <td>2.288</td>\n",
       "      <td>33</td>\n",
       "      <td>1</td>\n",
       "    </tr>\n",
       "  </tbody>\n",
       "</table>\n",
       "</div>"
      ],
      "text/plain": [
       "   Pregnancies  Glucose  BloodPressure  SkinThickness  Insulin   BMI  \\\n",
       "0            6      148             72             35        0  33.6   \n",
       "1            1       85             66             29        0  26.6   \n",
       "2            8      183             64              0        0  23.3   \n",
       "3            1       89             66             23       94  28.1   \n",
       "4            0      137             40             35      168  43.1   \n",
       "\n",
       "   DiabetesPedigreeFunction  Age  Outcome  \n",
       "0                     0.627   50        1  \n",
       "1                     0.351   31        0  \n",
       "2                     0.672   32        1  \n",
       "3                     0.167   21        0  \n",
       "4                     2.288   33        1  "
      ]
     },
     "execution_count": 262,
     "metadata": {},
     "output_type": "execute_result"
    }
   ],
   "source": [
    "import pandas as pd\n",
    "from sklearn import tree\n",
    "from sklearn.metrics import confusion_matrix, classification_report, plot_confusion_matrix\n",
    "\n",
    "diabetes_df = pd.read_csv(\"diabetes copy2.csv\")\n",
    "diabetes_df.head()"
   ]
  },
  {
   "cell_type": "code",
   "execution_count": 263,
   "id": "f8c58ef3",
   "metadata": {},
   "outputs": [
    {
     "data": {
      "text/plain": [
       "0    500\n",
       "1    268\n",
       "Name: Outcome, dtype: int64"
      ]
     },
     "execution_count": 263,
     "metadata": {},
     "output_type": "execute_result"
    }
   ],
   "source": [
    "diabetes_df['Outcome'].value_counts()"
   ]
  },
  {
   "cell_type": "code",
   "execution_count": 264,
   "id": "76c90e7d",
   "metadata": {},
   "outputs": [],
   "source": [
    "from sklearn.model_selection import train_test_split\n",
    "from sklearn.preprocessing import StandardScaler\n",
    "\n",
    "X = diabetes_df.drop('Outcome', axis=1)\n",
    "y = diabetes_df['Outcome']\n",
    "\n",
    "# Split into training and test set\n",
    "X_train, X_test, y_train, y_test = train_test_split(X, y, test_size = 0.3, random_state=42, stratify=y)\n",
    "\n",
    "#Standardize\n",
    "sc= StandardScaler()\n",
    "X_train=sc.fit_transform(X_train)\n",
    "X_test=sc.fit_transform(X_test)"
   ]
  },
  {
   "cell_type": "markdown",
   "id": "36d068e6",
   "metadata": {},
   "source": [
    "### 1) Estimator: \n",
    "        The number of decision trees"
   ]
  },
  {
   "cell_type": "markdown",
   "id": "b4181f6d",
   "metadata": {},
   "source": [
    "70 --> 68,59\n",
    "\n",
    "100 --> 68, 54\n",
    "\n",
    "200 --> 70,58\n",
    "\n",
    "300 --> 68,56\n",
    "\n",
    "500 --> 71,58"
   ]
  },
  {
   "cell_type": "markdown",
   "id": "9ee6e9d7",
   "metadata": {},
   "source": [
    "For 1s (Diabetic):\n",
    "\n",
    "I started off by setting the parameter to 70 which gave 68% precision and 59% recall. Then I increased it to 100 which did not make any difference to the precision but recall went down to 54%. Increasing it to 200 improved both precision and recall. But increasing it to 300 caused the precision and recall to go down. 500 seemed like the ideal number of trees as it results in the model being 71% correct in predicting the diabetic cases and was able to catch 58% of all diabetic cases--  the highest precision and recall together.\n",
    "\n",
    "There does not seem to be a consistent correlation between the decision trees and the precision/recall."
   ]
  },
  {
   "cell_type": "code",
   "execution_count": 260,
   "id": "30938f33",
   "metadata": {},
   "outputs": [
    {
     "data": {
      "text/plain": [
       "0.7489177489177489"
      ]
     },
     "execution_count": 260,
     "metadata": {},
     "output_type": "execute_result"
    }
   ],
   "source": [
    "from sklearn.ensemble import RandomForestClassifier\n",
    "#estimator = model\n",
    "rf = RandomForestClassifier(n_estimators=100,random_state=42)\n",
    "\n",
    "rf = rf.fit(X_train, y_train)\n",
    "rf.score(X_test, y_test)"
   ]
  },
  {
   "cell_type": "code",
   "execution_count": 261,
   "id": "ff883c02",
   "metadata": {},
   "outputs": [
    {
     "name": "stdout",
     "output_type": "stream",
     "text": [
      "              precision    recall  f1-score   support\n",
      "\n",
      "           0       0.78      0.86      0.82       150\n",
      "           1       0.68      0.54      0.60        81\n",
      "\n",
      "    accuracy                           0.75       231\n",
      "   macro avg       0.73      0.70      0.71       231\n",
      "weighted avg       0.74      0.75      0.74       231\n",
      "\n"
     ]
    }
   ],
   "source": [
    "predictions = rf.predict(X_test)\n",
    "print(classification_report(y_test,predictions))"
   ]
  },
  {
   "cell_type": "markdown",
   "id": "cf62ef91",
   "metadata": {},
   "source": [
    "### 2) Maximum Depth\n",
    "    \n",
    "    The amount of levels each tree can have (this is the limit)"
   ]
  },
  {
   "cell_type": "markdown",
   "id": "eed8df38",
   "metadata": {},
   "source": [
    "None--> 68,54 (Same for depth = 20)\n",
    "\n",
    "2 --> 75,37\n",
    "\n",
    "5 --> 69,49: MAX DEPTH INCREASE, PRECISION DECREASE  | MAX DEPTH INCREASE, RECALL INCREASE\n",
    "\n",
    "8 --> 69,56: MAX DEPTH INCREASE, PRECISION DECREASE  | MAX DEPTH INCREASE, RECALL INCREASE\n",
    "\n",
    "10 --> 69,58: MAX DEPTH INCREASE, PRECISION SAME     | MAX DEPTH INCREASE, RECALL INCREASE\n",
    "\n",
    "45 --> 69,54: MAX DEPTH INCREASE, PRECISION SAME     | MAX DEPTH INCREASE, RECALL DECREASE"
   ]
  },
  {
   "cell_type": "markdown",
   "id": "6cfade02",
   "metadata": {},
   "source": [
    "Overall, as the max depth increased, the precision and recall pairs got better. Unlike with estimator, there seems to be more of a correlation here--sort of like a bell-curve. As the depth increased the recall score got better (positive correlation) but too much of an increase (45) made the recall score go down. On the other hand, the precision score did not change as the paramter increased. "
   ]
  },
  {
   "cell_type": "code",
   "execution_count": 90,
   "id": "d866b8b0",
   "metadata": {},
   "outputs": [
    {
     "data": {
      "text/plain": [
       "0.7489177489177489"
      ]
     },
     "execution_count": 90,
     "metadata": {},
     "output_type": "execute_result"
    }
   ],
   "source": [
    "rf = RandomForestClassifier(max_depth = 45  ,random_state=42)\n",
    "\n",
    "rf = rf.fit(X_train, y_train)\n",
    "rf.score(X_test, y_test)"
   ]
  },
  {
   "cell_type": "code",
   "execution_count": 91,
   "id": "f9d7f9f6",
   "metadata": {},
   "outputs": [
    {
     "name": "stdout",
     "output_type": "stream",
     "text": [
      "              precision    recall  f1-score   support\n",
      "\n",
      "           0       0.78      0.86      0.82       150\n",
      "           1       0.68      0.54      0.60        81\n",
      "\n",
      "    accuracy                           0.75       231\n",
      "   macro avg       0.73      0.70      0.71       231\n",
      "weighted avg       0.74      0.75      0.74       231\n",
      "\n"
     ]
    }
   ],
   "source": [
    "predictions = rf.predict(X_test)\n",
    "print(classification_report(y_test,predictions))"
   ]
  },
  {
   "cell_type": "markdown",
   "id": "a94ffc0b",
   "metadata": {},
   "source": [
    "### 3) Minimum Samples Split\n",
    "\n",
    "    The min number of samples required to split a internal node(each part of the tree excluding the terminating nodes)\n",
    "    "
   ]
  },
  {
   "cell_type": "markdown",
   "id": "0e91e005",
   "metadata": {},
   "source": [
    "2 (default) --> 68, 54\n",
    "\n",
    "15 --> 67, 56: \n",
    "\n",
    "5 -->  68, 57: MIN SAMPLE SPLIT DECREASE, PRECISION INCREASE  | MIN SAMPLE SPLIT DECREASE, RECALL INCREASE\n",
    "\n",
    "10 --> 68, 54: MIN SAMPLE SPLIT INCREASE, PRECISION SAME      | MIN SAMPLE SPLIT INCREASE, RECALL DECREASE\n",
    "\n",
    "3 --> 70, 56:  MIN SAMPLE SPLIT DECREASE, PRECISION INCREASE  | MIN SAMPLE SPLIT DECREASE, RECALL INCREASE?\n"
   ]
  },
  {
   "cell_type": "markdown",
   "id": "2afe7654",
   "metadata": {},
   "source": [
    "Both precision and recall's relationship with minimum samples split resembles normal distribution. The scores are the most ideal at 3 splits with precision being 70% and recall being 56 %. Going lower than 3 dropped both scores and going higher caused an overall decrease as well. "
   ]
  },
  {
   "cell_type": "code",
   "execution_count": 256,
   "id": "774930dc",
   "metadata": {},
   "outputs": [
    {
     "data": {
      "text/plain": [
       "0.7489177489177489"
      ]
     },
     "execution_count": 256,
     "metadata": {},
     "output_type": "execute_result"
    }
   ],
   "source": [
    "rf = RandomForestClassifier(min_samples_split = 2 ,random_state=42)\n",
    "\n",
    "rf = rf.fit(X_train, y_train)\n",
    "rf.score(X_test, y_test)"
   ]
  },
  {
   "cell_type": "code",
   "execution_count": 257,
   "id": "29209f0e",
   "metadata": {},
   "outputs": [
    {
     "name": "stdout",
     "output_type": "stream",
     "text": [
      "              precision    recall  f1-score   support\n",
      "\n",
      "           0       0.78      0.86      0.82       150\n",
      "           1       0.68      0.54      0.60        81\n",
      "\n",
      "    accuracy                           0.75       231\n",
      "   macro avg       0.73      0.70      0.71       231\n",
      "weighted avg       0.74      0.75      0.74       231\n",
      "\n"
     ]
    }
   ],
   "source": [
    "predictions = rf.predict(X_test)\n",
    "print(classification_report(y_test,predictions))"
   ]
  },
  {
   "cell_type": "markdown",
   "id": "c59d1fc1",
   "metadata": {},
   "source": [
    "### 4) Minimum Samples Leaf\n",
    "\n",
    " \n",
    "       The min number of samples required at a leaf node (last part of the tree)\n",
    "  "
   ]
  },
  {
   "cell_type": "markdown",
   "id": "ca982889",
   "metadata": {},
   "source": [
    "15 --> 68,49: \n",
    "\n",
    "5 -->  70,54: MIN SAMPLE LEAF DECREASE, PRECISION INCREASE | MIN SAMPLE LEAF DECREASE, RECALL INCREASE\n",
    "\n",
    "10 --> 68,53: MIN SAMPLE LEAF INCREASE, PRECISION DECREASE | MIN SAMPLE LEAF INCREASE, RECALL DECREASE\n",
    "\n",
    "3 --> 69,54:  MIN SAMPLE LEAF DECREASE, PRECISION INCREASE | MIN SAMPLE LEAFT DECREASE, RECALL INCREASE\n",
    "\n",
    "18 --> 67,47:  MIN SAMPLE LEAF INCREASE, PRECISION DECREASE| MIN SAMPLE LEAFT INCREASE, RECALL DECREASE"
   ]
  },
  {
   "cell_type": "markdown",
   "id": "a423e051",
   "metadata": {},
   "source": [
    "Both precision and recall have an overall negative correlation with  minimum samples leaf. The ideal samples here was 5. "
   ]
  },
  {
   "cell_type": "code",
   "execution_count": 124,
   "id": "a84821b5",
   "metadata": {},
   "outputs": [
    {
     "data": {
      "text/plain": [
       "0.7316017316017316"
      ]
     },
     "execution_count": 124,
     "metadata": {},
     "output_type": "execute_result"
    }
   ],
   "source": [
    "rf = RandomForestClassifier(min_samples_leaf = 18,random_state=42)\n",
    "\n",
    "rf = rf.fit(X_train, y_train)\n",
    "rf.score(X_test, y_test)"
   ]
  },
  {
   "cell_type": "code",
   "execution_count": 125,
   "id": "2156e9c3",
   "metadata": {},
   "outputs": [
    {
     "name": "stdout",
     "output_type": "stream",
     "text": [
      "              precision    recall  f1-score   support\n",
      "\n",
      "           0       0.75      0.87      0.81       150\n",
      "           1       0.67      0.47      0.55        81\n",
      "\n",
      "    accuracy                           0.73       231\n",
      "   macro avg       0.71      0.67      0.68       231\n",
      "weighted avg       0.72      0.73      0.72       231\n",
      "\n"
     ]
    }
   ],
   "source": [
    "predictions = rf.predict(X_test)\n",
    "print(classification_report(y_test,predictions))"
   ]
  },
  {
   "cell_type": "markdown",
   "id": "14a74b2a",
   "metadata": {},
   "source": [
    "### 5) Minimum Weight Fraction Leaf\n",
    "\n",
    "    - min_weight_fraction_leaf: the fraction of the samples needed at a leaf node where weights are determined by sample_weight, this is a way to deal with class imbalance."
   ]
  },
  {
   "cell_type": "markdown",
   "id": "4c67424a",
   "metadata": {},
   "source": [
    "15 --> 69/49: \n",
    "\n",
    "5 -->  72/44: MIN WEIGHT FRACTION LEAF DECREASE, PRECISION INCREASE | \n",
    "       \n",
    "          MIN WEIGHT FRACTION LEAF DECREASE, RECALL DECREASE\n",
    "\n",
    "10 --> 67/49: MIN WEIGHT FRACTION LEAF INCREASE, PRECISION DECREASE | \n",
    "\n",
    "          MIN WEIGHT FRACTION LEAF INCREASE, RECALL INCREASE\n",
    "\n",
    "3 --> 75/37:  MIN WEIGHT FRACTION LEAF DECREASE, PRECISION INCREASE | \n",
    "        \n",
    "          MIN WEIGHT FRACTION LEAF DECREASE, RECALL DECREASE\n",
    "\n",
    "18 --> 69/52:  MIN WEIGHT FRACTION LEAF INCREASE, PRECISION DECREASE| \n",
    "\n",
    "          MIN WEIGHT FRACTION LEAF INCREASE, RECALL INCREASE"
   ]
  },
  {
   "cell_type": "markdown",
   "id": "0313291b",
   "metadata": {},
   "source": [
    "As the the minimum weight fraction leaf increased, the precision loosely resembles a normal distribution. At 3 the precision score is high but goes down slightly with the increase of the weight fraction leaf only to go back up again when the value is 15. \n",
    "\n",
    "The recall score has a positive correlation to this parameter--both increase. "
   ]
  },
  {
   "cell_type": "code",
   "execution_count": 139,
   "id": "52770434",
   "metadata": {},
   "outputs": [
    {
     "data": {
      "text/plain": [
       "0.7489177489177489"
      ]
     },
     "execution_count": 139,
     "metadata": {},
     "output_type": "execute_result"
    }
   ],
   "source": [
    "rf = RandomForestClassifier(max_leaf_nodes = 18,random_state=42)\n",
    "\n",
    "rf = rf.fit(X_train, y_train)\n",
    "rf.score(X_test, y_test)"
   ]
  },
  {
   "cell_type": "code",
   "execution_count": 140,
   "id": "1f6eb483",
   "metadata": {},
   "outputs": [
    {
     "name": "stdout",
     "output_type": "stream",
     "text": [
      "              precision    recall  f1-score   support\n",
      "\n",
      "           0       0.77      0.87      0.82       150\n",
      "           1       0.69      0.52      0.59        81\n",
      "\n",
      "    accuracy                           0.75       231\n",
      "   macro avg       0.73      0.70      0.71       231\n",
      "weighted avg       0.74      0.75      0.74       231\n",
      "\n"
     ]
    }
   ],
   "source": [
    "predictions = rf.predict(X_test)\n",
    "print(classification_report(y_test,predictions))"
   ]
  },
  {
   "cell_type": "markdown",
   "id": "52e5b7c9",
   "metadata": {},
   "source": [
    "### 6)  Maximum Leaf Nodes\n",
    "\n",
    "\n",
    "    - max_leaf_nodes: the max amount of nodes a tree can have. (If None then unlimited number of leaf nodes.)\n",
    "        at each level or overall?"
   ]
  },
  {
   "cell_type": "markdown",
   "id": "e2686e44",
   "metadata": {},
   "source": [
    "None --> 68/54\n",
    "\n",
    "15 --> 69/49: \n",
    "\n",
    "5 -->  72/44: MAX LEAF NODES DECREASE, PRECISION INCREASE | \n",
    "       \n",
    "          MAX LEAF NODES DECREASE, RECALL DECREASE\n",
    "\n",
    "10 --> 67/49: MAX LEAF NODES INCREASE, PRECISION DECREASE | \n",
    "\n",
    "          MAX LEAF NODES INCREASE, RECALL INCREASE\n",
    "\n",
    "3 --> 75/37:  MAX LEAF NODES DECREASE, PRECISION INCREASE | \n",
    "        \n",
    "          MAX LEAF NODES DECREASE, RECALL DECREASE\n",
    "\n",
    "18 --> 69/52:  MAX LEAF NODES INCREASE, PRECISION DECREASE| \n",
    "\n",
    "          MAX LEAF NODES INCREASE, RECALL INCREASE"
   ]
  },
  {
   "cell_type": "markdown",
   "id": "7bb434d6",
   "metadata": {},
   "source": [
    "Lower Maximum Leaf Nodes: High precision, low recall\n",
    "\n",
    "High Maximum Leaf Nodes: Low precision, higher recall\n",
    "\n",
    "Recall: postive correlation\n",
    "\n",
    "Precision: negative correlation"
   ]
  },
  {
   "cell_type": "code",
   "execution_count": 163,
   "id": "83c97f2d",
   "metadata": {},
   "outputs": [
    {
     "data": {
      "text/plain": [
       "0.7489177489177489"
      ]
     },
     "execution_count": 163,
     "metadata": {},
     "output_type": "execute_result"
    }
   ],
   "source": [
    "#estimator = model  \n",
    "rf = RandomForestClassifier(max_leaf_nodes = None ,random_state=42)\n",
    "\n",
    "rf = rf.fit(X_train, y_train)\n",
    "rf.score(X_test, y_test)"
   ]
  },
  {
   "cell_type": "code",
   "execution_count": 164,
   "id": "9260917c",
   "metadata": {},
   "outputs": [
    {
     "name": "stdout",
     "output_type": "stream",
     "text": [
      "              precision    recall  f1-score   support\n",
      "\n",
      "           0       0.78      0.86      0.82       150\n",
      "           1       0.68      0.54      0.60        81\n",
      "\n",
      "    accuracy                           0.75       231\n",
      "   macro avg       0.73      0.70      0.71       231\n",
      "weighted avg       0.74      0.75      0.74       231\n",
      "\n"
     ]
    }
   ],
   "source": [
    "predictions = rf.predict(X_test)\n",
    "print(classification_report(y_test,predictions))"
   ]
  },
  {
   "cell_type": "markdown",
   "id": "f15ace17",
   "metadata": {},
   "source": [
    "### 7) Minimum Impurity Decrease\n",
    "\n",
    "    - min_impurity_decrease: A node will be split if this split causes a decrease of the impurity greater than or equal to this value.\n",
    "    \n",
    "    -Larger values create a large threshold for splitting the node\n",
    "    \n",
    "    - This parameter stops a split if the amount of decrease from the split is < the entered amount.\n",
    "    \n",
    "    - IMPURITY MEASURE: how well a certain amount of classes are separated. "
   ]
  },
  {
   "cell_type": "markdown",
   "id": "b424fa2e",
   "metadata": {},
   "source": [
    "- precision - negative correlation\n",
    "- recall - negative correlation\n",
    "\n",
    "\n",
    "- Larger the values create larger the thresholds which decrease both precision and recall score"
   ]
  },
  {
   "cell_type": "markdown",
   "id": "6ba264e7",
   "metadata": {},
   "source": [
    "0 --> 68/54\n",
    "\n",
    "\n",
    "0.00011 -->  65/56: MIN IMPURITY DE. INCREASE, PRECISION DECREASE | \n",
    "       \n",
    "          MIN IMPURITY DE. DECREASE, RECALL INCREASE\n",
    "\n",
    "0.00021 --> 66/56: MIN IMPURITY DE. INCREASE, PRECISION INCREASE | \n",
    "\n",
    "         MIN IMPURITY DE. INCREASE, RECALL SAME\n",
    "\n",
    "0.00091 --> 70/56:  MIN IMPURITY DE. INCREASE, PRECISION INCREASE | \n",
    "        \n",
    "          MIN IMPURITY DE. INCREASE, RECALL SAME\n",
    "\n",
    "0.00191 --> SAME AS PREVIOUS OBSERVATION!\n",
    "\n",
    "0.00591 --> 68/48:  MIN IMPURITY DE. INCREASE, PRECISION DECREASE | \n",
    "        \n",
    "          MIN IMPURITY DE. INCREASE, RECALL DECREASE\n",
    "\n",
    "0.0091 (increase) --> 70/47\n",
    "\n",
    "0.001 (increase --> 67/47\n",
    "\n",
    "0.00001 (decrease) --> 68/54\n",
    "\n",
    "0.009 (increase) --> 71/48\n",
    "\n"
   ]
  },
  {
   "cell_type": "code",
   "execution_count": 227,
   "id": "f9ff4485",
   "metadata": {},
   "outputs": [
    {
     "data": {
      "text/plain": [
       "0.7489177489177489"
      ]
     },
     "execution_count": 227,
     "metadata": {},
     "output_type": "execute_result"
    }
   ],
   "source": [
    "#estimator = model  \n",
    "rf = RandomForestClassifier(min_impurity_decrease = 0.009, random_state=42)\n",
    "\n",
    "rf = rf.fit(X_train, y_train)\n",
    "rf.score(X_test, y_test)"
   ]
  },
  {
   "cell_type": "code",
   "execution_count": 228,
   "id": "1b0e30da",
   "metadata": {},
   "outputs": [
    {
     "name": "stdout",
     "output_type": "stream",
     "text": [
      "              precision    recall  f1-score   support\n",
      "\n",
      "           0       0.76      0.89      0.82       150\n",
      "           1       0.71      0.48      0.57        81\n",
      "\n",
      "    accuracy                           0.75       231\n",
      "   macro avg       0.74      0.69      0.70       231\n",
      "weighted avg       0.74      0.75      0.73       231\n",
      "\n"
     ]
    }
   ],
   "source": [
    "predictions = rf.predict(X_test)\n",
    "print(classification_report(y_test,predictions))"
   ]
  },
  {
   "cell_type": "markdown",
   "id": "d9208f42",
   "metadata": {},
   "source": [
    "2) How does setting bootstrap=False influence the model performance? Note: the default is bootstrap=True. Explain why your results might be so."
   ]
  },
  {
   "cell_type": "code",
   "execution_count": 265,
   "id": "3344e16d",
   "metadata": {},
   "outputs": [
    {
     "data": {
      "text/plain": [
       "0.7575757575757576"
      ]
     },
     "execution_count": 265,
     "metadata": {},
     "output_type": "execute_result"
    }
   ],
   "source": [
    "#estimator = model  \n",
    "rf = RandomForestClassifier(bootstrap = False, random_state=42)\n",
    "\n",
    "rf = rf.fit(X_train, y_train)\n",
    "rf.score(X_test, y_test)"
   ]
  },
  {
   "cell_type": "code",
   "execution_count": 266,
   "id": "cfe5b159",
   "metadata": {},
   "outputs": [
    {
     "name": "stdout",
     "output_type": "stream",
     "text": [
      "              precision    recall  f1-score   support\n",
      "\n",
      "           0       0.79      0.85      0.82       150\n",
      "           1       0.68      0.58      0.63        81\n",
      "\n",
      "    accuracy                           0.76       231\n",
      "   macro avg       0.74      0.72      0.72       231\n",
      "weighted avg       0.75      0.76      0.75       231\n",
      "\n"
     ]
    }
   ],
   "source": [
    "predictions = rf.predict(X_test)\n",
    "print(classification_report(y_test,predictions))"
   ]
  },
  {
   "cell_type": "code",
   "execution_count": 267,
   "id": "bd1bd818",
   "metadata": {},
   "outputs": [
    {
     "data": {
      "text/plain": [
       "0.7489177489177489"
      ]
     },
     "execution_count": 267,
     "metadata": {},
     "output_type": "execute_result"
    }
   ],
   "source": [
    "#estimator = model  \n",
    "rf = RandomForestClassifier(bootstrap = True, random_state=42)\n",
    "\n",
    "rf = rf.fit(X_train, y_train)\n",
    "rf.score(X_test, y_test)"
   ]
  },
  {
   "cell_type": "code",
   "execution_count": 268,
   "id": "a1b8de6d",
   "metadata": {},
   "outputs": [
    {
     "name": "stdout",
     "output_type": "stream",
     "text": [
      "              precision    recall  f1-score   support\n",
      "\n",
      "           0       0.78      0.86      0.82       150\n",
      "           1       0.68      0.54      0.60        81\n",
      "\n",
      "    accuracy                           0.75       231\n",
      "   macro avg       0.73      0.70      0.71       231\n",
      "weighted avg       0.74      0.75      0.74       231\n",
      "\n"
     ]
    }
   ],
   "source": [
    "predictions = rf.predict(X_test)\n",
    "print(classification_report(y_test,predictions))"
   ]
  },
  {
   "cell_type": "markdown",
   "id": "20e56898",
   "metadata": {},
   "source": [
    "### When bootstrap is false: \n",
    "    the model is being trained the entire dataset for each tree.\n",
    "    \n",
    "### When bootstrap is true:\n",
    "    The model is trained on samples from the training set to build each tree--samples are drawn with replacemnt\n",
    "\n",
    "\n",
    "When bootstrap is false, the precision and recall scores are higher. This may be because the model is being trained on the WHOLE dataset so prediction on the test set is higher since it is part of the training set too which leads to overfitting. "
   ]
  }
 ],
 "metadata": {
  "kernelspec": {
   "display_name": "Python 3 (ipykernel)",
   "language": "python",
   "name": "python3"
  },
  "language_info": {
   "codemirror_mode": {
    "name": "ipython",
    "version": 3
   },
   "file_extension": ".py",
   "mimetype": "text/x-python",
   "name": "python",
   "nbconvert_exporter": "python",
   "pygments_lexer": "ipython3",
   "version": "3.9.7"
  }
 },
 "nbformat": 4,
 "nbformat_minor": 5
}
